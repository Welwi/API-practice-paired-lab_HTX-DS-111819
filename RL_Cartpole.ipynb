{
  "nbformat": 4,
  "nbformat_minor": 0,
  "metadata": {
    "colab": {
      "name": "RL_Cartpole.ipynb",
      "provenance": [],
      "authorship_tag": "ABX9TyMDTAyPVKSJB2hdiwcGkAx0",
      "include_colab_link": true
    },
    "kernelspec": {
      "name": "python3",
      "display_name": "Python 3"
    }
  },
  "cells": [
    {
      "cell_type": "markdown",
      "metadata": {
        "id": "view-in-github",
        "colab_type": "text"
      },
      "source": [
        "<a href=\"https://colab.research.google.com/github/Welwi/API-practice-paired-lab_HTX-DS-111819/blob/master/RL_Cartpole.ipynb\" target=\"_parent\"><img src=\"https://colab.research.google.com/assets/colab-badge.svg\" alt=\"Open In Colab\"/></a>"
      ]
    },
    {
      "cell_type": "markdown",
      "metadata": {
        "id": "JEqdvGemP8Bs",
        "colab_type": "text"
      },
      "source": [
        "In this project, I am training a RL algorithm that will master two varying envs with varying complexity.\n",
        "\n",
        "ENV 1: Cartpole\n",
        "The goal is to balance a pole, portruding from a cart, in an upright position by only movign the base left or right. This is an env with a low-dimensional observation space."
      ]
    },
    {
      "cell_type": "code",
      "metadata": {
        "id": "KCezM37-SGV1",
        "colab_type": "code",
        "colab": {
          "base_uri": "https://localhost:8080/",
          "height": 343
        },
        "outputId": "87569eb4-06af-4cdf-9b09-c0cff9546018"
      },
      "source": [
        "\n",
        "!apt-get install -y xvfb python-opengl x11-utils > /dev/null 2>&1\n",
        "!pip install gym pyvirtualdisplay scikit-video > /dev/null 2>&1\n",
        "\n",
        "!pip install mitdeeplearning"
      ],
      "execution_count": null,
      "outputs": [
        {
          "output_type": "stream",
          "text": [
            "Collecting mitdeeplearning\n",
            "\u001b[?25l  Downloading https://files.pythonhosted.org/packages/8b/3b/b9174b68dc10832356d02a2d83a64b43a24f1762c172754407d22fc8f960/mitdeeplearning-0.1.2.tar.gz (2.1MB)\n",
            "\u001b[K     |████████████████████████████████| 2.1MB 2.7MB/s \n",
            "\u001b[?25hRequirement already satisfied: numpy in /usr/local/lib/python3.6/dist-packages (from mitdeeplearning) (1.18.5)\n",
            "Requirement already satisfied: regex in /usr/local/lib/python3.6/dist-packages (from mitdeeplearning) (2019.12.20)\n",
            "Requirement already satisfied: tqdm in /usr/local/lib/python3.6/dist-packages (from mitdeeplearning) (4.41.1)\n",
            "Requirement already satisfied: gym in /usr/local/lib/python3.6/dist-packages (from mitdeeplearning) (0.17.2)\n",
            "Requirement already satisfied: pyglet<=1.5.0,>=1.4.0 in /usr/local/lib/python3.6/dist-packages (from gym->mitdeeplearning) (1.5.0)\n",
            "Requirement already satisfied: scipy in /usr/local/lib/python3.6/dist-packages (from gym->mitdeeplearning) (1.4.1)\n",
            "Requirement already satisfied: cloudpickle<1.4.0,>=1.2.0 in /usr/local/lib/python3.6/dist-packages (from gym->mitdeeplearning) (1.3.0)\n",
            "Requirement already satisfied: future in /usr/local/lib/python3.6/dist-packages (from pyglet<=1.5.0,>=1.4.0->gym->mitdeeplearning) (0.16.0)\n",
            "Building wheels for collected packages: mitdeeplearning\n",
            "  Building wheel for mitdeeplearning (setup.py) ... \u001b[?25l\u001b[?25hdone\n",
            "  Created wheel for mitdeeplearning: filename=mitdeeplearning-0.1.2-cp36-none-any.whl size=2114586 sha256=424c6d7c794f70b84fbb522629b453e7f4ec75ba163517af7a41651e8e3ecd1b\n",
            "  Stored in directory: /root/.cache/pip/wheels/27/e1/73/5f01c787621d8a3c857f59876c79e304b9b64db9ff5bd61b74\n",
            "Successfully built mitdeeplearning\n",
            "Installing collected packages: mitdeeplearning\n",
            "Successfully installed mitdeeplearning-0.1.2\n"
          ],
          "name": "stdout"
        }
      ]
    },
    {
      "cell_type": "markdown",
      "metadata": {
        "id": "N-QQGQA2TIL-",
        "colab_type": "text"
      },
      "source": [
        "## Steps of RL probs in general:\n",
        "1. Initialize the env and the agent: describe the different observations and actions the agent can make in the env.\n",
        "\n",
        "2. Define the agent's memory: this will enable the agent to remember its past actions, observations and rewards\n",
        "\n",
        "3. Define a reward function: describes the reward associated with an action or sequence of actions\n",
        "\n",
        "4. Define the learning algorithm: this is used to reinforce the agent's good behavior and discourage the bad behaviors."
      ]
    },
    {
      "cell_type": "code",
      "metadata": {
        "id": "t2GrwZ3YP7tj",
        "colab_type": "code",
        "colab": {}
      },
      "source": [
        "import tensorflow as tf\n",
        "import numpy as np\n",
        "\n",
        "import base64, io, time, gym\n",
        "import IPython, functools\n",
        "\n",
        "import matplotlib.pyplot as plt\n",
        "\n",
        "from tqdm import tqdm\n",
        "\n",
        "import mitdeeplearning as mdl"
      ],
      "execution_count": null,
      "outputs": []
    },
    {
      "cell_type": "markdown",
      "metadata": {
        "id": "B99XtJvdUH0T",
        "colab_type": "text"
      },
      "source": [
        "## PART 1: CARTPOLE"
      ]
    },
    {
      "cell_type": "markdown",
      "metadata": {
        "id": "EIrE3x5JU2hY",
        "colab_type": "text"
      },
      "source": [
        "Gym is a toolkit that has several pre-defined environments for training and testing RL learning agents.\n",
        "\n",
        "In Cartpole, the pole starts upright and the goal is to prevent it from falling. A reward of +1 is given for every timestep that the pole remains upright.\n",
        "A reward of -1 is given if the the pole is more than 15 degrees from the vertical or if the cart moves more than 2.4 units from the center of the track."
      ]
    },
    {
      "cell_type": "code",
      "metadata": {
        "id": "C-eOAk5PPbrG",
        "colab_type": "code",
        "colab": {
          "base_uri": "https://localhost:8080/",
          "height": 34
        },
        "outputId": "596700cb-291c-41fb-bb24-5dcf8d20a800"
      },
      "source": [
        "# Instantiating the cartpole env\n",
        "\n",
        "env = gym.make('CartPole-v0')\n",
        "env.seed(1)"
      ],
      "execution_count": null,
      "outputs": [
        {
          "output_type": "execute_result",
          "data": {
            "text/plain": [
              "[1]"
            ]
          },
          "metadata": {
            "tags": []
          },
          "execution_count": 3
        }
      ]
    },
    {
      "cell_type": "markdown",
      "metadata": {
        "id": "w-qrXGmeYCyk",
        "colab_type": "text"
      },
      "source": [
        "Observations that help define the env:\n",
        "1. cart position\n",
        "2. cart velocity\n",
        "3. pole angle\n",
        "4. pole rotation rate\n",
        "\n",
        "Actions that the agent can take:\n",
        "- The agent can move either right or left.\n",
        "\n",
        "This shows that this is a low-dimensional observation and action spaces."
      ]
    },
    {
      "cell_type": "code",
      "metadata": {
        "id": "Zo7NiaNhV_xq",
        "colab_type": "code",
        "colab": {
          "base_uri": "https://localhost:8080/",
          "height": 51
        },
        "outputId": "70b76103-f70f-4931-9faa-7f9cc34ca52d"
      },
      "source": [
        "# Checking the size of the space\n",
        "n_observations = env.observation_space\n",
        "print('Env has observation space =', n_observations)\n",
        "\n",
        "# Checking the num of actions that the agent can take\n",
        "n_actions = env.action_space.n\n",
        "print('Num of possible actions that the agent can choose from =', n_actions)"
      ],
      "execution_count": null,
      "outputs": [
        {
          "output_type": "stream",
          "text": [
            "Env has observation space = Box(4,)\n",
            "Num of possible actions that the agent can choose from = 2\n"
          ],
          "name": "stdout"
        }
      ]
    },
    {
      "cell_type": "code",
      "metadata": {
        "id": "_C4MHuqffUOM",
        "colab_type": "code",
        "colab": {
          "base_uri": "https://localhost:8080/",
          "height": 34
        },
        "outputId": "7b15c8ff-3540-4989-9797-cf1b8a4575cf"
      },
      "source": [
        "n_actions"
      ],
      "execution_count": null,
      "outputs": [
        {
          "output_type": "execute_result",
          "data": {
            "text/plain": [
              "2"
            ]
          },
          "metadata": {
            "tags": []
          },
          "execution_count": 5
        }
      ]
    },
    {
      "cell_type": "markdown",
      "metadata": {
        "id": "k27CIunnayPu",
        "colab_type": "text"
      },
      "source": [
        "### Defining the agent\n",
        "\n",
        "In RL, a deep neural network defines the agent.\n",
        "This network takes in an observation of the environment, and outputs the probability of taking each of the possible actions.\n",
        "Since this is a low dimensional observation space, we can use a simple feed forward NN"
      ]
    },
    {
      "cell_type": "code",
      "metadata": {
        "id": "IsK2HjcNZEUi",
        "colab_type": "code",
        "colab": {}
      },
      "source": [
        "# Defining the carpole agent\n",
        "def create_carpole_model():\n",
        "\n",
        "  model = tf.keras.models.Sequential([\n",
        "                                      tf.keras.layers.Dense(units=32, activation='relu'),\n",
        "                                      tf.keras.layers.Dense(units=n_actions, activation= None)\n",
        "  ])\n",
        "\n",
        "  return model\n",
        "\n",
        "cartpole_model = create_carpole_model()"
      ],
      "execution_count": null,
      "outputs": []
    },
    {
      "cell_type": "markdown",
      "metadata": {
        "id": "F1qk2pYMgR41",
        "colab_type": "text"
      },
      "source": [
        "Defining a feed forward pass through the network (action function)\n",
        "\n",
        "- takes observations as inputs\n",
        "- does a forward pass through the model\n",
        "- outputs the agent action\n"
      ]
    },
    {
      "cell_type": "code",
      "metadata": {
        "id": "pMmUy-vZfe8u",
        "colab_type": "code",
        "colab": {}
      },
      "source": [
        "def choose_action(model, observation):\n",
        "\n",
        "  # adding the batch dimension to the observation\n",
        "  observation = np.expand_dims(observation, axis=0)\n",
        "\n",
        "  # passing the observation through the model\n",
        "  logits = model.predict(observation)\n",
        "\n",
        "  # pass the probabilities through softmax to get true probability\n",
        "  prob_weights = tf.nn.softmax(logits).numpy()\n",
        "\n",
        "  # random selection of an action from observation\n",
        "  action = np.random.choice(n_actions, size=1, p=prob_weights.flatten())[0]\n",
        "\n",
        "  return action"
      ],
      "execution_count": null,
      "outputs": []
    },
    {
      "cell_type": "markdown",
      "metadata": {
        "id": "NGYuoOfR8MfQ",
        "colab_type": "text"
      },
      "source": [
        "## Agents Memory\n",
        "\n",
        "Unables agent to remember past actions, observations and rewards.\n",
        "\n",
        "In RL:\n",
        "- Training happens alongside the agent's acting in the env\n",
        "- Episode: sequence of actions that ends in a terminal state (pole falling or cart crashing)\n",
        "- The agent needs to remember all of the observations and actions for the episode to reinforce or punish the actions."
      ]
    },
    {
      "cell_type": "code",
      "metadata": {
        "id": "C6w6E6sdovPz",
        "colab_type": "code",
        "colab": {}
      },
      "source": [
        "class Memory:\n",
        "  def __init__(self):\n",
        "    self.clear()\n",
        "\n",
        "  # reseting the memory buffer\n",
        "  def clear(self):\n",
        "    self.observations = []\n",
        "    self.actions = []\n",
        "    self.rewards = []\n",
        "\n",
        "  def add_to_memory(self, new_observation, new_action, new_reward):\n",
        "    self.observations.append(new_observation)\n",
        "    self.actions.append(new_action)\n",
        "    self.rewards.append(new_reward)\n",
        "\n",
        "memory = Memory()"
      ],
      "execution_count": null,
      "outputs": []
    },
    {
      "cell_type": "markdown",
      "metadata": {
        "id": "rGx-f6kCGy1x",
        "colab_type": "text"
      },
      "source": [
        "## Rewards function\n",
        "\n",
        "For this case, we are focusing on giving preference to rewards that happen now than in the future.\n",
        "\n",
        "To implement function:\n",
        "- initialize an array of zeros  with length of the number of time steps\n",
        "- fill it with the discounted reward values as we look through the rewards from the episode\n",
        "- To find out which actions are better - normalize the rewards using the mean and std of the rewards across the learning episode."
      ]
    },
    {
      "cell_type": "code",
      "metadata": {
        "id": "rNVKdniYFTOy",
        "colab_type": "code",
        "colab": {}
      },
      "source": [
        "# Function to normalize the rewards\n",
        "def normalize(x):\n",
        "   \n",
        "   x -= np.mean(x)\n",
        "   x /= np.std(x)\n",
        "   return x.astype(np.float32)"
      ],
      "execution_count": null,
      "outputs": []
    },
    {
      "cell_type": "code",
      "metadata": {
        "id": "2h4jsuQTOnAf",
        "colab_type": "code",
        "colab": {}
      },
      "source": [
        "def discount_rewards(rewards, gamma=0.95):\n",
        "\n",
        "  #initializing an array of zeros\n",
        "  discounted_rewards = np.zeros_like(rewards)\n",
        "\n",
        "  R = 0\n",
        "  for t in reversed(range(0, len(rewards))):\n",
        "    R = R*gamma + rewards[t]\n",
        "\n",
        "    discounted_rewards[t] = R\n",
        "\n",
        "    return normalize(discounted_rewards)\n"
      ],
      "execution_count": null,
      "outputs": []
    },
    {
      "cell_type": "markdown",
      "metadata": {
        "id": "YpRKAls9S5IC",
        "colab_type": "text"
      },
      "source": [
        "## Defining the Learning algorithm\n",
        "\n",
        "For this exercise the focus is going to be policy gradient methods which aim to maximize the likelihood of actions that result in large rewards\n",
        "\n",
        "This can be done by scaling the probabilities by the associated rewards. This results in amplifying the likelihood of actions that result in large rewards.\n",
        "\n",
        "This means that to minimize the negative likelihood is equivalent to minimizing the negative log-likelihood which can be done using softmax cross entropy."
      ]
    },
    {
      "cell_type": "code",
      "metadata": {
        "id": "qvQLLSfVSAU0",
        "colab_type": "code",
        "colab": {}
      },
      "source": [
        "def compute_loss (logits, actions, rewards):\n",
        "\n",
        "  neg_logprob = tf.nn.sparse_softmax_cross_entropy_with_logits(logits= logits,\n",
        "                                                               labels = actions)\n",
        "  loss = tf.reduce_mean(neg_logprob * rewards)\n",
        "\n",
        "  return loss\n"
      ],
      "execution_count": null,
      "outputs": []
    },
    {
      "cell_type": "markdown",
      "metadata": {
        "id": "Dl9ogtb1WjWo",
        "colab_type": "text"
      },
      "source": [
        "## Defining the training step"
      ]
    },
    {
      "cell_type": "code",
      "metadata": {
        "id": "eDMP4TmvSASA",
        "colab_type": "code",
        "colab": {}
      },
      "source": [
        "def train_step(model, optimizer, observations, actions, discounted_rewards):\n",
        "\n",
        "  with tf.GradientTape() as tape:\n",
        "    logits = model(observations)\n",
        "\n",
        "    loss = compute_loss(logits, actions, discounted_rewards)\n",
        "  \n",
        "  # backpropagation to minimize the loss\n",
        "  grads = tape.gradient(loss, model.trainable_variables)\n",
        "  optimizer.apply_gradients(zip(grads, model.trainable_variables))"
      ],
      "execution_count": null,
      "outputs": []
    },
    {
      "cell_type": "markdown",
      "metadata": {
        "id": "27xT2MhWXSL6",
        "colab_type": "text"
      },
      "source": [
        "## Running the Cartpole"
      ]
    },
    {
      "cell_type": "code",
      "metadata": {
        "id": "WojmBoNhSAPb",
        "colab_type": "code",
        "colab": {
          "base_uri": "https://localhost:8080/",
          "height": 541
        },
        "outputId": "070e2c93-2141-45b6-8ca4-dd1d9a849096"
      },
      "source": [
        "learning_rate = 0.001\n",
        "optimizer = tf.keras.optimizers.Adam(learning_rate)\n",
        "\n",
        "# instantiating the cartpole agent\n",
        "cartpole_model = create_carpole_model()\n",
        "\n",
        "# to track progress\n",
        "smoothed_reward = mdl.util.LossHistory(smoothing_factor=0.9)\n",
        "plotter = mdl.util.PeriodicPlotter(sec=2, xlabel = 'Iterations', ylabel='Rewards')\n",
        "\n",
        "if hasattr(tqdm, '_instances'): tqdm._instances.clear()\n",
        "\n",
        "for i_episode in range(500):\n",
        "\n",
        "  plotter.plot(smoothed_reward.get())\n",
        "\n",
        "  # Restart the env\n",
        "  observation = env.reset()\n",
        "  memory.clear()\n",
        "\n",
        "  while True:\n",
        "    # using our obsrevation, choose an action and take it in the env\n",
        "    action = choose_action(cartpole_model, observation)\n",
        "    next_observation, reward, done, info = env.step(action)\n",
        "\n",
        "    # add to memory\n",
        "    memory.add_to_memory(observation, action, reward)\n",
        "\n",
        "    if done:\n",
        "      # determine total reward and keep a record of this\n",
        "      total_reward = sum(memory.rewards)\n",
        "      smoothed_reward.append(total_reward)\n",
        "\n",
        "      train_step(cartpole_model, optimizer, \n",
        "                 observations=np.vstack(memory.observations),\n",
        "                 actions=np.array(memory.actions),\n",
        "                 discounted_rewards = discount_rewards(memory.rewards))\n",
        "      \n",
        "      # reset the memory\n",
        "      memory.clear()\n",
        "      break\n",
        "    # update our observations\n",
        "    observation = next_observation"
      ],
      "execution_count": null,
      "outputs": [
        {
          "output_type": "display_data",
          "data": {
            "image/png": "[encoded data removed]",
            "text/plain": [
              "<Figure size 432x288 with 1 Axes>"
            ]
          },
          "metadata": {
            "tags": []
          }
        },
        {
          "output_type": "display_data",
          "data": {
            "image/png": "[encoded data removed]",
            "text/plain": [
              "<Figure size 432x288 with 1 Axes>"
            ]
          },
          "metadata": {
            "tags": [],
            "needs_background": "light"
          }
        }
      ]
    },
    {
      "cell_type": "code",
      "metadata": {
        "id": "5_aIo5Z0rt9_",
        "colab_type": "code",
        "colab": {
          "base_uri": "https://localhost:8080/",
          "height": 438
        },
        "outputId": "c252d3ba-598c-46f3-fbde-bd580ef99c62"
      },
      "source": [
        "saved_cartpole = mdl.lab3.save_video_of_model(cartpole_model, \"CartPole-v0\")\n",
        "mdl.lab3.play_video(saved_cartpole)"
      ],
      "execution_count": null,
      "outputs": [
        {
          "output_type": "stream",
          "text": [
            "Successfully saved 24 frames into CartPole-v0.mp4!\n"
          ],
          "name": "stdout"
        },
        {
          "output_type": "execute_result",
          "data": {
            "text/html": [
              "\n",
              "        <video controls>\n",
              "            <source src=\"data:video/mp4;base64,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\" type=\"video/mp4\" />\n",
              "        </video>"
            ],
            "text/plain": [
              "<IPython.core.display.HTML object>"
            ]
          },
          "metadata": {
            "tags": []
          },
          "execution_count": 29
        }
      ]
    },
    {
      "cell_type": "code",
      "metadata": {
        "id": "qQRmEPQHSAH9",
        "colab_type": "code",
        "colab": {}
      },
      "source": [
        ""
      ],
      "execution_count": null,
      "outputs": []
    },
    {
      "cell_type": "code",
      "metadata": {
        "id": "KRllBXpmSAEa",
        "colab_type": "code",
        "colab": {}
      },
      "source": [
        ""
      ],
      "execution_count": null,
      "outputs": []
    },
    {
      "cell_type": "code",
      "metadata": {
        "id": "8-QC8s9UR_z4",
        "colab_type": "code",
        "colab": {}
      },
      "source": [
        ""
      ],
      "execution_count": null,
      "outputs": []
    }
  ]
}